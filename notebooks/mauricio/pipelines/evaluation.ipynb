{
 "cells": [
  {
   "cell_type": "code",
   "execution_count": 28,
   "metadata": {},
   "outputs": [],
   "source": [
    "import sys\n",
    "\n",
    "# Adiciona o diretório src ao PYTHONPATH\n",
    "project_dir = os.path.abspath(os.path.join(os.getcwd(), '../../../'))\n",
    "if project_dir not in sys.path:\n",
    "    sys.path.append(project_dir)\n",
    "\n",
    "\n",
    "import os\n",
    "import json\n",
    "import numpy as np\n",
    "import pandas as pd\n",
    "import mlflow\n",
    "import re\n",
    "from typing import List\n",
    "\n",
    "\n",
    "from src.config import logger, DATA_PATH, USE_S3, get_config\n",
    "from storage.io import Storage\n",
    "from src.train.core import load_model_from_mlflow\n",
    "from src.data.data_loader import get_predicted_news\n"
   ]
  },
  {
   "cell_type": "code",
   "execution_count": 3,
   "metadata": {},
   "outputs": [
    {
     "name": "stderr",
     "output_type": "stream",
     "text": [
      "2025-03-02 10:37:53,446 - config - INFO - factory.py - Inicializando S3 no bucket 'fiap-mleng-datathon-data-grupo57'\n",
      "2025-03-02 10:37:54,259 - config - INFO - s3.py - S3 válido para bucket 'fiap-mleng-datathon-data-grupo57'\n"
     ]
    }
   ],
   "source": [
    "storage = Storage()"
   ]
  },
  {
   "cell_type": "code",
   "execution_count": 34,
   "metadata": {},
   "outputs": [
    {
     "name": "stdout",
     "output_type": "stream",
     "text": [
      "<class 'pandas.core.frame.DataFrame'>\n",
      "RangeIndex: 112184 entries, 0 to 112183\n",
      "Data columns (total 4 columns):\n",
      " #   Column            Non-Null Count   Dtype \n",
      "---  ------            --------------   ----- \n",
      " 0   userId            112184 non-null  object\n",
      " 1   userType          112184 non-null  object\n",
      " 2   history           112184 non-null  object\n",
      " 3   timestampHistory  112184 non-null  object\n",
      "dtypes: object(4)\n",
      "memory usage: 3.4+ MB\n"
     ]
    },
    {
     "data": {
      "application/vnd.microsoft.datawrangler.viewer.v0+json": {
       "columns": [
        {
         "name": "index",
         "rawType": "int64",
         "type": "integer"
        },
        {
         "name": "userId",
         "rawType": "object",
         "type": "string"
        },
        {
         "name": "userType",
         "rawType": "object",
         "type": "string"
        },
        {
         "name": "history",
         "rawType": "object",
         "type": "string"
        },
        {
         "name": "timestampHistory",
         "rawType": "object",
         "type": "string"
        }
       ],
       "conversionMethod": "pd.DataFrame",
       "ref": "6c1224eb-72bc-4d2d-9894-1d8aa34cde6b",
       "rows": [
        [
         "0",
         "e25fbee3a42d45a2914f9b061df3386b2ded2d8cc1f3d4b901419051126488b9",
         "Logged",
         "['be89a7da-d9fa-49d4-9fdc-388c27a15bc8'\n '01c59ff6-fb82-4258-918f-2910cb2d4c52']",
         "[1660533136590 1660672113513]"
        ],
        [
         "1",
         "d0afad7ea843d86597d822f0df1d39d31a3fea7c39fdeee870d49b897e1e99cd",
         "Logged",
         "['77901133-aee7-4f7b-afc0-652231d76fe9']",
         "[1660556860253]"
        ],
        [
         "2",
         "755062dd39a48809880cf363b04268c3af2c003088cde02636fcca973a3564d1",
         "Logged",
         "['857aa90f-a7ec-410d-ba82-dfa4f85d4e71']",
         "[1660561649242]"
        ]
       ],
       "shape": {
        "columns": 4,
        "rows": 3
       }
      },
      "text/html": [
       "<div>\n",
       "<style scoped>\n",
       "    .dataframe tbody tr th:only-of-type {\n",
       "        vertical-align: middle;\n",
       "    }\n",
       "\n",
       "    .dataframe tbody tr th {\n",
       "        vertical-align: top;\n",
       "    }\n",
       "\n",
       "    .dataframe thead th {\n",
       "        text-align: right;\n",
       "    }\n",
       "</style>\n",
       "<table border=\"1\" class=\"dataframe\">\n",
       "  <thead>\n",
       "    <tr style=\"text-align: right;\">\n",
       "      <th></th>\n",
       "      <th>userId</th>\n",
       "      <th>userType</th>\n",
       "      <th>history</th>\n",
       "      <th>timestampHistory</th>\n",
       "    </tr>\n",
       "  </thead>\n",
       "  <tbody>\n",
       "    <tr>\n",
       "      <th>0</th>\n",
       "      <td>e25fbee3a42d45a2914f9b061df3386b2ded2d8cc1f3d4...</td>\n",
       "      <td>Logged</td>\n",
       "      <td>['be89a7da-d9fa-49d4-9fdc-388c27a15bc8'\\n '01c...</td>\n",
       "      <td>[1660533136590 1660672113513]</td>\n",
       "    </tr>\n",
       "    <tr>\n",
       "      <th>1</th>\n",
       "      <td>d0afad7ea843d86597d822f0df1d39d31a3fea7c39fdee...</td>\n",
       "      <td>Logged</td>\n",
       "      <td>['77901133-aee7-4f7b-afc0-652231d76fe9']</td>\n",
       "      <td>[1660556860253]</td>\n",
       "    </tr>\n",
       "    <tr>\n",
       "      <th>2</th>\n",
       "      <td>755062dd39a48809880cf363b04268c3af2c003088cde0...</td>\n",
       "      <td>Logged</td>\n",
       "      <td>['857aa90f-a7ec-410d-ba82-dfa4f85d4e71']</td>\n",
       "      <td>[1660561649242]</td>\n",
       "    </tr>\n",
       "  </tbody>\n",
       "</table>\n",
       "</div>"
      ],
      "text/plain": [
       "                                              userId userType  \\\n",
       "0  e25fbee3a42d45a2914f9b061df3386b2ded2d8cc1f3d4...   Logged   \n",
       "1  d0afad7ea843d86597d822f0df1d39d31a3fea7c39fdee...   Logged   \n",
       "2  755062dd39a48809880cf363b04268c3af2c003088cde0...   Logged   \n",
       "\n",
       "                                             history  \\\n",
       "0  ['be89a7da-d9fa-49d4-9fdc-388c27a15bc8'\\n '01c...   \n",
       "1           ['77901133-aee7-4f7b-afc0-652231d76fe9']   \n",
       "2           ['857aa90f-a7ec-410d-ba82-dfa4f85d4e71']   \n",
       "\n",
       "                timestampHistory  \n",
       "0  [1660533136590 1660672113513]  \n",
       "1                [1660556860253]  \n",
       "2                [1660561649242]  "
      ]
     },
     "execution_count": 34,
     "metadata": {},
     "output_type": "execute_result"
    }
   ],
   "source": [
    "validation_file = os.path.join(DATA_PATH, \"challenge-webmedia-e-globo-2023/val_data/validacao.csv\")\n",
    "validation_data = storage.read_csv(validation_file)\n",
    "\n",
    "validation_data.info()\n",
    "validation_data.head(3)\n"
   ]
  },
  {
   "cell_type": "code",
   "execution_count": 37,
   "metadata": {},
   "outputs": [
    {
     "data": {
      "application/vnd.microsoft.datawrangler.viewer.v0+json": {
       "columns": [
        {
         "name": "index",
         "rawType": "int64",
         "type": "integer"
        },
        {
         "name": "userId",
         "rawType": "object",
         "type": "string"
        },
        {
         "name": "userType",
         "rawType": "object",
         "type": "string"
        },
        {
         "name": "pageId",
         "rawType": "object",
         "type": "string"
        },
        {
         "name": "timestampHistory",
         "rawType": "object",
         "type": "string"
        }
       ],
       "conversionMethod": "pd.DataFrame",
       "ref": "0463b1e2-f9c3-4673-b74b-ad4d27ee380a",
       "rows": [
        [
         "0",
         "e25fbee3a42d45a2914f9b061df3386b2ded2d8cc1f3d4b901419051126488b9",
         "Logged",
         "be89a7da-d9fa-49d4-9fdc-388c27a15bc8",
         "[1660533136590 1660672113513]"
        ],
        [
         "1",
         "e25fbee3a42d45a2914f9b061df3386b2ded2d8cc1f3d4b901419051126488b9",
         "Logged",
         "01c59ff6-fb82-4258-918f-2910cb2d4c52",
         "[1660533136590 1660672113513]"
        ],
        [
         "2",
         "d0afad7ea843d86597d822f0df1d39d31a3fea7c39fdeee870d49b897e1e99cd",
         "Logged",
         "77901133-aee7-4f7b-afc0-652231d76fe9",
         "[1660556860253]"
        ],
        [
         "3",
         "755062dd39a48809880cf363b04268c3af2c003088cde02636fcca973a3564d1",
         "Logged",
         "857aa90f-a7ec-410d-ba82-dfa4f85d4e71",
         "[1660561649242]"
        ],
        [
         "4",
         "ec1639851d99586c7f4da928deb49187303aec6e3b8d66c0359d4920e3c105e6",
         "Logged",
         "b7b90e18-7613-4ca0-a8fc-fd69addfcd85",
         "[1660533830245 1660540831707 1660542659111 1660613060729 1660613148339]"
        ]
       ],
       "shape": {
        "columns": 4,
        "rows": 5
       }
      },
      "text/html": [
       "<div>\n",
       "<style scoped>\n",
       "    .dataframe tbody tr th:only-of-type {\n",
       "        vertical-align: middle;\n",
       "    }\n",
       "\n",
       "    .dataframe tbody tr th {\n",
       "        vertical-align: top;\n",
       "    }\n",
       "\n",
       "    .dataframe thead th {\n",
       "        text-align: right;\n",
       "    }\n",
       "</style>\n",
       "<table border=\"1\" class=\"dataframe\">\n",
       "  <thead>\n",
       "    <tr style=\"text-align: right;\">\n",
       "      <th></th>\n",
       "      <th>userId</th>\n",
       "      <th>userType</th>\n",
       "      <th>pageId</th>\n",
       "      <th>timestampHistory</th>\n",
       "    </tr>\n",
       "  </thead>\n",
       "  <tbody>\n",
       "    <tr>\n",
       "      <th>0</th>\n",
       "      <td>e25fbee3a42d45a2914f9b061df3386b2ded2d8cc1f3d4...</td>\n",
       "      <td>Logged</td>\n",
       "      <td>be89a7da-d9fa-49d4-9fdc-388c27a15bc8</td>\n",
       "      <td>[1660533136590 1660672113513]</td>\n",
       "    </tr>\n",
       "    <tr>\n",
       "      <th>1</th>\n",
       "      <td>e25fbee3a42d45a2914f9b061df3386b2ded2d8cc1f3d4...</td>\n",
       "      <td>Logged</td>\n",
       "      <td>01c59ff6-fb82-4258-918f-2910cb2d4c52</td>\n",
       "      <td>[1660533136590 1660672113513]</td>\n",
       "    </tr>\n",
       "    <tr>\n",
       "      <th>2</th>\n",
       "      <td>d0afad7ea843d86597d822f0df1d39d31a3fea7c39fdee...</td>\n",
       "      <td>Logged</td>\n",
       "      <td>77901133-aee7-4f7b-afc0-652231d76fe9</td>\n",
       "      <td>[1660556860253]</td>\n",
       "    </tr>\n",
       "    <tr>\n",
       "      <th>3</th>\n",
       "      <td>755062dd39a48809880cf363b04268c3af2c003088cde0...</td>\n",
       "      <td>Logged</td>\n",
       "      <td>857aa90f-a7ec-410d-ba82-dfa4f85d4e71</td>\n",
       "      <td>[1660561649242]</td>\n",
       "    </tr>\n",
       "    <tr>\n",
       "      <th>4</th>\n",
       "      <td>ec1639851d99586c7f4da928deb49187303aec6e3b8d66...</td>\n",
       "      <td>Logged</td>\n",
       "      <td>b7b90e18-7613-4ca0-a8fc-fd69addfcd85</td>\n",
       "      <td>[1660533830245 1660540831707 1660542659111 166...</td>\n",
       "    </tr>\n",
       "  </tbody>\n",
       "</table>\n",
       "</div>"
      ],
      "text/plain": [
       "                                              userId userType  \\\n",
       "0  e25fbee3a42d45a2914f9b061df3386b2ded2d8cc1f3d4...   Logged   \n",
       "1  e25fbee3a42d45a2914f9b061df3386b2ded2d8cc1f3d4...   Logged   \n",
       "2  d0afad7ea843d86597d822f0df1d39d31a3fea7c39fdee...   Logged   \n",
       "3  755062dd39a48809880cf363b04268c3af2c003088cde0...   Logged   \n",
       "4  ec1639851d99586c7f4da928deb49187303aec6e3b8d66...   Logged   \n",
       "\n",
       "                                 pageId  \\\n",
       "0  be89a7da-d9fa-49d4-9fdc-388c27a15bc8   \n",
       "1  01c59ff6-fb82-4258-918f-2910cb2d4c52   \n",
       "2  77901133-aee7-4f7b-afc0-652231d76fe9   \n",
       "3  857aa90f-a7ec-410d-ba82-dfa4f85d4e71   \n",
       "4  b7b90e18-7613-4ca0-a8fc-fd69addfcd85   \n",
       "\n",
       "                                    timestampHistory  \n",
       "0                      [1660533136590 1660672113513]  \n",
       "1                      [1660533136590 1660672113513]  \n",
       "2                                    [1660556860253]  \n",
       "3                                    [1660561649242]  \n",
       "4  [1660533830245 1660540831707 1660542659111 166...  "
      ]
     },
     "execution_count": 37,
     "metadata": {},
     "output_type": "execute_result"
    }
   ],
   "source": [
    "def explode_history(df: pd.DataFrame) -> pd.DataFrame:\n",
    "    \"\"\"\n",
    "    Converte a coluna 'history' (que contém strings com hashes de pageIds)\n",
    "    em múltiplas linhas, extraindo os valores entre aspas simples.\n",
    "    \n",
    "    Exemplo de entrada na coluna 'history':\n",
    "        \"'be89a7da-d9fa-49d4-9fdc-388c27a15bc8'\\n '01c59ff6-fb82-4258-918f-2910cb2d4c52'\"\n",
    "    \n",
    "    A função irá retornar um DataFrame com uma coluna 'pageId' contendo cada hash.\n",
    "    \n",
    "    Args:\n",
    "        df (pd.DataFrame): DataFrame que contém a coluna 'history'.\n",
    "    \n",
    "    Returns:\n",
    "        pd.DataFrame: DataFrame com a coluna 'history' explodida e renomeada para 'pageId'.\n",
    "    \"\"\"\n",
    "    def parse_history_str(s: str) -> list:\n",
    "        # Remove colchetes, se existirem, e quebras de linha\n",
    "        s = s.strip().replace(\"[\", \"\").replace(\"]\", \"\")\n",
    "        # Utiliza regex para extrair os valores entre aspas simples\n",
    "        tokens = re.findall(r\"'([^']+)'\", s)\n",
    "        return tokens\n",
    "\n",
    "    # Aplica a função de parsing somente se o valor for string\n",
    "    df[\"history\"] = df[\"history\"].apply(lambda x: parse_history_str(x) if isinstance(x, str) else x)\n",
    "    # Explode a coluna para ter 1 hash por linha\n",
    "    df_exploded = df.explode(\"history\").reset_index(drop=True)\n",
    "    # Renomeia a coluna para 'pageId'\n",
    "    df_exploded.rename(columns={\"history\": \"pageId\"}, inplace=True)\n",
    "    return df_exploded\n",
    "\n",
    "\n",
    "\n",
    "validation_exploded = explode_history(validation_data)\n",
    "# logger.info(f\"Explodido dataset de validação. Shape: {validation_exploded.shape}\")\n",
    "validation_exploded.head(5)\n"
   ]
  },
  {
   "cell_type": "code",
   "execution_count": 36,
   "metadata": {},
   "outputs": [
    {
     "data": {
      "text/plain": [
       "\"'be89a7da-d9fa-49d4-9fdc-388c27a15bc8'\\n '01c59ff6-fb82-4258-918f-2910cb2d4c52'\""
      ]
     },
     "execution_count": 36,
     "metadata": {},
     "output_type": "execute_result"
    }
   ],
   "source": [
    "validation_data[\"history\"].str.replace(\"[\", \"\").str.replace(\"]\", \"\").iloc[0]"
   ]
  },
  {
   "cell_type": "code",
   "execution_count": 40,
   "metadata": {},
   "outputs": [
    {
     "data": {
      "text/plain": [
       "'e25fbee3a42d45a2914f9b061df3386b2ded2d8cc1f3d4b901419051126488b9'"
      ]
     },
     "execution_count": 40,
     "metadata": {},
     "output_type": "execute_result"
    }
   ],
   "source": [
    "validation_data[\"userId\"].iloc[0]"
   ]
  },
  {
   "cell_type": "code",
   "execution_count": 41,
   "metadata": {},
   "outputs": [
    {
     "data": {
      "text/plain": [
       "'e25fbee3a42d45a2914f9b061df3386b2ded2d8cc1f3d4b901419051126488b9'"
      ]
     },
     "execution_count": 41,
     "metadata": {},
     "output_type": "execute_result"
    }
   ],
   "source": [
    "validation_exploded[\"userId\"].iloc[0]"
   ]
  },
  {
   "cell_type": "code",
   "execution_count": 42,
   "metadata": {},
   "outputs": [
    {
     "data": {
      "application/vnd.microsoft.datawrangler.viewer.v0+json": {
       "columns": [
        {
         "name": "index",
         "rawType": "int64",
         "type": "integer"
        },
        {
         "name": "userId",
         "rawType": "object",
         "type": "string"
        },
        {
         "name": "userType",
         "rawType": "object",
         "type": "string"
        },
        {
         "name": "history",
         "rawType": "object",
         "type": "unknown"
        },
        {
         "name": "timestampHistory",
         "rawType": "object",
         "type": "string"
        }
       ],
       "conversionMethod": "pd.DataFrame",
       "ref": "72bf3e12-22af-426c-aa88-c0958d8f451e",
       "rows": [
        [
         "0",
         "e25fbee3a42d45a2914f9b061df3386b2ded2d8cc1f3d4b901419051126488b9",
         "Logged",
         "['be89a7da-d9fa-49d4-9fdc-388c27a15bc8', '01c59ff6-fb82-4258-918f-2910cb2d4c52']",
         "[1660533136590 1660672113513]"
        ]
       ],
       "shape": {
        "columns": 4,
        "rows": 1
       }
      },
      "text/html": [
       "<div>\n",
       "<style scoped>\n",
       "    .dataframe tbody tr th:only-of-type {\n",
       "        vertical-align: middle;\n",
       "    }\n",
       "\n",
       "    .dataframe tbody tr th {\n",
       "        vertical-align: top;\n",
       "    }\n",
       "\n",
       "    .dataframe thead th {\n",
       "        text-align: right;\n",
       "    }\n",
       "</style>\n",
       "<table border=\"1\" class=\"dataframe\">\n",
       "  <thead>\n",
       "    <tr style=\"text-align: right;\">\n",
       "      <th></th>\n",
       "      <th>userId</th>\n",
       "      <th>userType</th>\n",
       "      <th>history</th>\n",
       "      <th>timestampHistory</th>\n",
       "    </tr>\n",
       "  </thead>\n",
       "  <tbody>\n",
       "    <tr>\n",
       "      <th>0</th>\n",
       "      <td>e25fbee3a42d45a2914f9b061df3386b2ded2d8cc1f3d4...</td>\n",
       "      <td>Logged</td>\n",
       "      <td>[be89a7da-d9fa-49d4-9fdc-388c27a15bc8, 01c59ff...</td>\n",
       "      <td>[1660533136590 1660672113513]</td>\n",
       "    </tr>\n",
       "  </tbody>\n",
       "</table>\n",
       "</div>"
      ],
      "text/plain": [
       "                                              userId userType  \\\n",
       "0  e25fbee3a42d45a2914f9b061df3386b2ded2d8cc1f3d4...   Logged   \n",
       "\n",
       "                                             history  \\\n",
       "0  [be89a7da-d9fa-49d4-9fdc-388c27a15bc8, 01c59ff...   \n",
       "\n",
       "                timestampHistory  \n",
       "0  [1660533136590 1660672113513]  "
      ]
     },
     "execution_count": 42,
     "metadata": {},
     "output_type": "execute_result"
    }
   ],
   "source": [
    "validation_data.query(\"userId == 'e25fbee3a42d45a2914f9b061df3386b2ded2d8cc1f3d4b901419051126488b9'\").head(5)"
   ]
  },
  {
   "cell_type": "code",
   "execution_count": 43,
   "metadata": {},
   "outputs": [
    {
     "data": {
      "application/vnd.microsoft.datawrangler.viewer.v0+json": {
       "columns": [
        {
         "name": "index",
         "rawType": "int64",
         "type": "integer"
        },
        {
         "name": "userId",
         "rawType": "object",
         "type": "string"
        },
        {
         "name": "userType",
         "rawType": "object",
         "type": "string"
        },
        {
         "name": "pageId",
         "rawType": "object",
         "type": "string"
        },
        {
         "name": "timestampHistory",
         "rawType": "object",
         "type": "string"
        }
       ],
       "conversionMethod": "pd.DataFrame",
       "ref": "969b1715-dae8-4125-8624-c891fe061715",
       "rows": [
        [
         "0",
         "e25fbee3a42d45a2914f9b061df3386b2ded2d8cc1f3d4b901419051126488b9",
         "Logged",
         "be89a7da-d9fa-49d4-9fdc-388c27a15bc8",
         "[1660533136590 1660672113513]"
        ],
        [
         "1",
         "e25fbee3a42d45a2914f9b061df3386b2ded2d8cc1f3d4b901419051126488b9",
         "Logged",
         "01c59ff6-fb82-4258-918f-2910cb2d4c52",
         "[1660533136590 1660672113513]"
        ]
       ],
       "shape": {
        "columns": 4,
        "rows": 2
       }
      },
      "text/html": [
       "<div>\n",
       "<style scoped>\n",
       "    .dataframe tbody tr th:only-of-type {\n",
       "        vertical-align: middle;\n",
       "    }\n",
       "\n",
       "    .dataframe tbody tr th {\n",
       "        vertical-align: top;\n",
       "    }\n",
       "\n",
       "    .dataframe thead th {\n",
       "        text-align: right;\n",
       "    }\n",
       "</style>\n",
       "<table border=\"1\" class=\"dataframe\">\n",
       "  <thead>\n",
       "    <tr style=\"text-align: right;\">\n",
       "      <th></th>\n",
       "      <th>userId</th>\n",
       "      <th>userType</th>\n",
       "      <th>pageId</th>\n",
       "      <th>timestampHistory</th>\n",
       "    </tr>\n",
       "  </thead>\n",
       "  <tbody>\n",
       "    <tr>\n",
       "      <th>0</th>\n",
       "      <td>e25fbee3a42d45a2914f9b061df3386b2ded2d8cc1f3d4...</td>\n",
       "      <td>Logged</td>\n",
       "      <td>be89a7da-d9fa-49d4-9fdc-388c27a15bc8</td>\n",
       "      <td>[1660533136590 1660672113513]</td>\n",
       "    </tr>\n",
       "    <tr>\n",
       "      <th>1</th>\n",
       "      <td>e25fbee3a42d45a2914f9b061df3386b2ded2d8cc1f3d4...</td>\n",
       "      <td>Logged</td>\n",
       "      <td>01c59ff6-fb82-4258-918f-2910cb2d4c52</td>\n",
       "      <td>[1660533136590 1660672113513]</td>\n",
       "    </tr>\n",
       "  </tbody>\n",
       "</table>\n",
       "</div>"
      ],
      "text/plain": [
       "                                              userId userType  \\\n",
       "0  e25fbee3a42d45a2914f9b061df3386b2ded2d8cc1f3d4...   Logged   \n",
       "1  e25fbee3a42d45a2914f9b061df3386b2ded2d8cc1f3d4...   Logged   \n",
       "\n",
       "                                 pageId               timestampHistory  \n",
       "0  be89a7da-d9fa-49d4-9fdc-388c27a15bc8  [1660533136590 1660672113513]  \n",
       "1  01c59ff6-fb82-4258-918f-2910cb2d4c52  [1660533136590 1660672113513]  "
      ]
     },
     "execution_count": 43,
     "metadata": {},
     "output_type": "execute_result"
    }
   ],
   "source": [
    "validation_exploded.query(\"userId == 'e25fbee3a42d45a2914f9b061df3386b2ded2d8cc1f3d4b901419051126488b9'\").head(5)"
   ]
  },
  {
   "cell_type": "code",
   "execution_count": 14,
   "metadata": {},
   "outputs": [
    {
     "name": "stderr",
     "output_type": "stream",
     "text": [
      "2025-03-02 11:00:02,327 - src.config - INFO - core.py - 🔄 [Core] Carregando modelo do MLflow: models:/news-recommender-prod@champion\n",
      "/opt/homebrew/Caskroom/miniforge/base/envs/datathon/lib/python3.9/site-packages/tqdm/auto.py:21: TqdmWarning: IProgress not found. Please update jupyter and ipywidgets. See https://ipywidgets.readthedocs.io/en/stable/user_install.html\n",
      "  from .autonotebook import tqdm as notebook_tqdm\n",
      "Downloading artifacts: 100%|██████████| 7/7 [00:00<00:00,  7.24it/s]\n",
      "2025-03-02 11:00:05,360 - src.config - INFO - core.py - ✅ [Core] Modelo carregado com sucesso!\n"
     ]
    }
   ],
   "source": [
    "# Notebook cell\n",
    "from config import configure_mlflow\n",
    "\n",
    "\n",
    "configure_mlflow()\n",
    "\n",
    "model_name = get_config(\"MODEL_NAME\", \"news-recommender-dev\")  # ou \"news-recommender-prod\"\n",
    "model_alias = \"champion\"  # ou \"staging\" etc.\n",
    "model = load_model_from_mlflow(model_name, model_alias=model_alias)\n",
    "\n",
    "if model is None:\n",
    "    raise RuntimeError(\"Não foi possível carregar o modelo do MLflow!\")\n"
   ]
  },
  {
   "cell_type": "code",
   "execution_count": null,
   "metadata": {},
   "outputs": [],
   "source": []
  }
 ],
 "metadata": {
  "kernelspec": {
   "display_name": "datathon",
   "language": "python",
   "name": "python3"
  },
  "language_info": {
   "codemirror_mode": {
    "name": "ipython",
    "version": 3
   },
   "file_extension": ".py",
   "mimetype": "text/x-python",
   "name": "python",
   "nbconvert_exporter": "python",
   "pygments_lexer": "ipython3",
   "version": "3.9.21"
  }
 },
 "nbformat": 4,
 "nbformat_minor": 2
}
