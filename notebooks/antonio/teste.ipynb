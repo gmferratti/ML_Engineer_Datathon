{
 "cells": [
  {
   "cell_type": "code",
   "execution_count": 1,
   "metadata": {},
   "outputs": [
    {
     "data": {
      "text/plain": [
       "'c:\\\\Users\\\\devil\\\\OneDrive\\\\Área de Trabalho\\\\PósFiap\\\\FaseFinal\\\\ML_Engineer_Datathon\\\\notebooks\\\\antonio'"
      ]
     },
     "execution_count": 1,
     "metadata": {},
     "output_type": "execute_result"
    }
   ],
   "source": [
    "import os \n",
    "os.getcwd()"
   ]
  },
  {
   "cell_type": "code",
   "execution_count": 2,
   "metadata": {},
   "outputs": [],
   "source": [
    "os.chdir('c:\\\\Users\\\\devil\\\\OneDrive\\\\Área de Trabalho\\\\PósFiap\\\\FaseFinal\\\\ML_Engineer_Datathon')"
   ]
  },
  {
   "cell_type": "code",
   "execution_count": 4,
   "metadata": {},
   "outputs": [],
   "source": [
    "import pandas as pd\n",
    "\n",
    "\n",
    "from src.features.constants import (\n",
    "    MIX_FEATS_COLS,\n",
    "    STATE_COLS,\n",
    "    REGION_COLS,\n",
    "    THEME_MAIN_COLS,\n",
    "    THEME_SUB_COLS,\n",
    "    GAP_COLS,\n",
    "    FINAL_MIX_FEAT_COLS,\n",
    ")"
   ]
  },
  {
   "cell_type": "code",
   "execution_count": 6,
   "metadata": {},
   "outputs": [],
   "source": [
    "def _split_dataframes(df_mix: pd.DataFrame):\n",
    "    \"\"\"\n",
    "    Separa o dataframe em subconjuntos por dimensão.\n",
    "\n",
    "    Args:\n",
    "        df_mix (pd.DataFrame): Dados enriquecidos.\n",
    "\n",
    "    Returns:\n",
    "        tuple: (gap_df, state_df, region_df, tm_df, ts_df)\n",
    "    \"\"\"\n",
    "    gap_df = df_mix[GAP_COLS].copy()\n",
    "    gap_df = gap_df[gap_df[\"timeGapDays\"] >= 0].reset_index(drop=True)\n",
    "    state_df = df_mix[STATE_COLS].copy()\n",
    "    state_df = state_df[state_df[\"countLocalStateUser\"] > 0].reset_index(drop=True)\n",
    "    region_df = df_mix[REGION_COLS].copy()\n",
    "    region_df = region_df[region_df[\"countLocalRegionUser\"] > 0].reset_index(drop=True)\n",
    "    tm_df = df_mix[THEME_MAIN_COLS].copy()\n",
    "    tm_df = tm_df[tm_df[\"countThemeMainUser\"] > 0].reset_index(drop=True)\n",
    "    ts_df = df_mix[THEME_SUB_COLS].copy()\n",
    "    ts_df = ts_df[ts_df[\"countThemeSubUser\"] > 0].reset_index(drop=True)\n",
    "    state_df = state_df.drop_duplicates(subset=[\"userId\", \"localState\"])\n",
    "    region_df = region_df.drop_duplicates(subset=[\"userId\", \"localRegion\"])\n",
    "    tm_df = tm_df.drop_duplicates(subset=[\"userId\", \"themeMain\"])\n",
    "    ts_df = ts_df.drop_duplicates(subset=[\"userId\", \"themeSub\"])\n",
    "    return df_mix, gap_df, state_df, region_df, tm_df, ts_df"
   ]
  },
  {
   "cell_type": "code",
   "execution_count": 12,
   "metadata": {},
   "outputs": [],
   "source": [
    "\n",
    "\n",
    "data = {\n",
    "        'userId': [1, 1, 2, 2],\n",
    "        'pageId': [1, 2, 3, 4],\n",
    "        'timeGapDays': [1, -1, 2, 0],\n",
    "        'timeGapHours': [24, 36, 48, 12],\n",
    "        'timeGapMinutes': [1440, 2160, 2880, 720],\n",
    "        'timeGapLessThanOneDay': [False, False, False, True],\n",
    "        'countLocalStateUser': [1, 0, 2, 1],\n",
    "        'countLocalRegionUser': [1, 2, 0, 2],\n",
    "        'countThemeMainUser': [0, 1, 2, 1],\n",
    "        'countThemeSubUser': [1, 0, 1, 2],\n",
    "        'localState': ['SP', 'RJ', 'MG', 'SP'],\n",
    "        'localRegion': ['Sul', 'Norte', 'Leste', 'Oeste'],\n",
    "        'themeMain': ['Economia', 'Política', 'Saúde', 'Tecnologia'],\n",
    "        'themeSub': ['Impostos', 'Eleição', 'Pandemia', 'Inovação'],\n",
    "        'relLocalState': [0.5, 0.2, 0.7, 0.3],  # Adicionando coluna faltante\n",
    "        'relLocalRegion': [0.4, 0.5, 0.6, 0.7],\n",
    "        'relThemeMain': [0.3, 0.4, 0.5, 0.6],\n",
    "        'relThemeSub': [0.2, 0.3, 0.4, 0.5],\n",
    "    }\n",
    "sample_df_mix= pd.DataFrame(data)\n"
   ]
  },
  {
   "cell_type": "code",
   "execution_count": 15,
   "metadata": {},
   "outputs": [
    {
     "data": {
      "text/plain": [
       "(   userId  pageId  timeGapDays  timeGapHours  timeGapMinutes  \\\n",
       " 0       1       1            1            24            1440   \n",
       " 1       1       2           -1            36            2160   \n",
       " 2       2       3            2            48            2880   \n",
       " 3       2       4            0            12             720   \n",
       " \n",
       "    timeGapLessThanOneDay  countLocalStateUser  countLocalRegionUser  \\\n",
       " 0                  False                    1                     1   \n",
       " 1                  False                    0                     2   \n",
       " 2                  False                    2                     0   \n",
       " 3                   True                    1                     2   \n",
       " \n",
       "    countThemeMainUser  countThemeSubUser localState localRegion   themeMain  \\\n",
       " 0                   0                  1         SP         Sul    Economia   \n",
       " 1                   1                  0         RJ       Norte    Política   \n",
       " 2                   2                  1         MG       Leste       Saúde   \n",
       " 3                   1                  2         SP       Oeste  Tecnologia   \n",
       " \n",
       "    themeSub  relLocalState  relLocalRegion  relThemeMain  relThemeSub  \n",
       " 0  Impostos            0.5             0.4           0.3          0.2  \n",
       " 1   Eleição            0.2             0.5           0.4          0.3  \n",
       " 2  Pandemia            0.7             0.6           0.5          0.4  \n",
       " 3  Inovação            0.3             0.7           0.6          0.5  ,\n",
       "    userId  pageId  timeGapDays  timeGapHours  timeGapMinutes  \\\n",
       " 0       1       1            1            24            1440   \n",
       " 1       2       3            2            48            2880   \n",
       " 2       2       4            0            12             720   \n",
       " \n",
       "    timeGapLessThanOneDay  \n",
       " 0                  False  \n",
       " 1                  False  \n",
       " 2                   True  ,\n",
       "    userId localState  countLocalStateUser  relLocalState\n",
       " 0       1         SP                    1            0.5\n",
       " 1       2         MG                    2            0.7\n",
       " 2       2         SP                    1            0.3,\n",
       "    userId localRegion  countLocalRegionUser  relLocalRegion\n",
       " 0       1         Sul                     1             0.4\n",
       " 1       1       Norte                     2             0.5\n",
       " 2       2       Oeste                     2             0.7,\n",
       "    userId   themeMain  countThemeMainUser  relThemeMain\n",
       " 0       1    Política                   1           0.4\n",
       " 1       2       Saúde                   2           0.5\n",
       " 2       2  Tecnologia                   1           0.6,\n",
       "    userId  themeSub  countThemeSubUser  relThemeSub\n",
       " 0       1  Impostos                  1          0.2\n",
       " 1       2  Pandemia                  1          0.4\n",
       " 2       2  Inovação                  2          0.5)"
      ]
     },
     "execution_count": 15,
     "metadata": {},
     "output_type": "execute_result"
    }
   ],
   "source": [
    "_split_dataframes(sample_df_mix)"
   ]
  }
 ],
 "metadata": {
  "kernelspec": {
   "display_name": "Python (Datathon)",
   "language": "python",
   "name": "datathon"
  },
  "language_info": {
   "codemirror_mode": {
    "name": "ipython",
    "version": 3
   },
   "file_extension": ".py",
   "mimetype": "text/x-python",
   "name": "python",
   "nbconvert_exporter": "python",
   "pygments_lexer": "ipython3",
   "version": "3.11.7"
  }
 },
 "nbformat": 4,
 "nbformat_minor": 2
}
