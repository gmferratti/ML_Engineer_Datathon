{
 "cells": [
  {
   "cell_type": "code",
   "execution_count": 21,
   "metadata": {},
   "outputs": [
    {
     "data": {
      "text/plain": [
       "'c:\\\\Users\\\\devil\\\\OneDrive\\\\Área de Trabalho\\\\PósFiap\\\\FaseFinal\\\\ML_Engineer_Datathon'"
      ]
     },
     "execution_count": 21,
     "metadata": {},
     "output_type": "execute_result"
    }
   ],
   "source": [
    "import os\n",
    "os.getcwd()"
   ]
  },
  {
   "cell_type": "code",
   "execution_count": 22,
   "metadata": {},
   "outputs": [],
   "source": [
    "os.chdir('c:\\\\Users\\\\devil\\\\OneDrive\\\\Área de Trabalho\\\\PósFiap\\\\FaseFinal\\\\ML_Engineer_Datathon')"
   ]
  },
  {
   "cell_type": "code",
   "execution_count": 23,
   "metadata": {},
   "outputs": [],
   "source": [
    "import pandas as pd\n",
    "from src.features.constants import (\n",
    "    MIX_FEATS_COLS,\n",
    "    STATE_COLS,\n",
    "    REGION_COLS,\n",
    "    THEME_MAIN_COLS,\n",
    "    THEME_SUB_COLS,\n",
    "    GAP_COLS,\n",
    "    FINAL_MIX_FEAT_COLS,\n",
    ")\n"
   ]
  },
  {
   "cell_type": "code",
   "execution_count": 25,
   "metadata": {},
   "outputs": [
    {
     "ename": "ModuleNotFoundError",
     "evalue": "No module named 'mlflow'",
     "output_type": "error",
     "traceback": [
      "\u001b[1;31m---------------------------------------------------------------------------\u001b[0m",
      "\u001b[1;31mModuleNotFoundError\u001b[0m                       Traceback (most recent call last)",
      "Cell \u001b[1;32mIn[25], line 1\u001b[0m\n\u001b[1;32m----> 1\u001b[0m \u001b[38;5;28;01mfrom\u001b[39;00m \u001b[38;5;21;01msrc\u001b[39;00m\u001b[38;5;21;01m.\u001b[39;00m\u001b[38;5;21;01mconfig\u001b[39;00m \u001b[38;5;28;01mimport\u001b[39;00m logger\n",
      "File \u001b[1;32mc:\\Users\\devil\\OneDrive\\Área de Trabalho\\PósFiap\\FaseFinal\\ML_Engineer_Datathon\\src\\config.py:7\u001b[0m\n\u001b[0;32m      4\u001b[0m \u001b[38;5;28;01mfrom\u001b[39;00m \u001b[38;5;21;01mimportlib\u001b[39;00m \u001b[38;5;28;01mimport\u001b[39;00m resources\n\u001b[0;32m      5\u001b[0m \u001b[38;5;28;01mfrom\u001b[39;00m \u001b[38;5;21;01mtyping\u001b[39;00m \u001b[38;5;28;01mimport\u001b[39;00m Any, Dict, Tuple\n\u001b[1;32m----> 7\u001b[0m \u001b[38;5;28;01mimport\u001b[39;00m \u001b[38;5;21;01mmlflow\u001b[39;00m\n\u001b[0;32m      8\u001b[0m \u001b[38;5;28;01mimport\u001b[39;00m \u001b[38;5;21;01mpandas\u001b[39;00m \u001b[38;5;28;01mas\u001b[39;00m \u001b[38;5;21;01mpd\u001b[39;00m\n\u001b[0;32m      9\u001b[0m \u001b[38;5;28;01mimport\u001b[39;00m \u001b[38;5;21;01myaml\u001b[39;00m\n",
      "\u001b[1;31mModuleNotFoundError\u001b[0m: No module named 'mlflow'"
     ]
    }
   ],
   "source": [
    "from src.config import logger"
   ]
  },
  {
   "cell_type": "code",
   "execution_count": 26,
   "metadata": {},
   "outputs": [],
   "source": [
    "def generate_suggested_feats(\n",
    "    df_mix: pd.DataFrame,\n",
    "    state_df: pd.DataFrame,\n",
    "    region_df: pd.DataFrame,\n",
    "    tm_df: pd.DataFrame,\n",
    "    ts_df: pd.DataFrame,\n",
    ") -> pd.DataFrame:\n",
    "    \"\"\"\n",
    "    Gera a tabela final agregando informações de várias dimensões.\n",
    "\n",
    "    Args:\n",
    "        df_mix (pd.DataFrame): Base com features principais.\n",
    "        state_df (pd.DataFrame): Dados de estado.\n",
    "        region_df (pd.DataFrame): Dados de região.\n",
    "        tm_df (pd.DataFrame): Dados de tema principal.\n",
    "        ts_df (pd.DataFrame): Dados de tema secundário.\n",
    "\n",
    "    Returns:\n",
    "        pd.DataFrame: Tabela final agregada.\n",
    "    \"\"\"\n",
    "    #logger.info(\"📐 [Mix] Gerando suggested_feats...\")\n",
    "    suggested = df_mix[FINAL_MIX_FEAT_COLS]\n",
    "    suggested = suggested.merge(state_df, on=[\"userId\", \"localState\"], how=\"left\")\n",
    "    suggested = suggested.merge(region_df, on=[\"userId\", \"localRegion\"], how=\"left\")\n",
    "    suggested = suggested.merge(tm_df, on=[\"userId\", \"themeMain\"], how=\"left\")\n",
    "    suggested = suggested.merge(ts_df, on=[\"userId\", \"themeSub\"], how=\"left\")\n",
    "    cols = [col for col in suggested.columns if col.startswith(\"count\")]\n",
    "    #logger.info(\"📐 [Mix] Removendo colunas de contagem...\")\n",
    "    return suggested.drop(columns=cols)"
   ]
  },
  {
   "cell_type": "code",
   "execution_count": 27,
   "metadata": {},
   "outputs": [],
   "source": [
    "data = {\n",
    "        \"userId\": [1],\n",
    "        \"pageId\": [100],\n",
    "        \"userType\": [\"Free\"],\n",
    "        \"isWeekend\": [False],\n",
    "        \"dayPeriod\": [\"Manhã\"],\n",
    "        \"issuedDatetime\": [pd.to_datetime(\"2024-03-01 10:00:00\")],\n",
    "        \"timestampHistoryDatetime\": [pd.to_datetime(\"2024-03-01 10:30:00\")],\n",
    "        \"coldStart\": [False],\n",
    "        \"localState\": [\"SP\"],\n",
    "        \"localRegion\": [\"Sudeste\"],\n",
    "        \"themeMain\": [\"Esportes\"],\n",
    "        \"themeSub\": [\"Futebol\"]\n",
    "    } \n",
    "df_mix = pd.DataFrame(data)"
   ]
  },
  {
   "cell_type": "code",
   "execution_count": 29,
   "metadata": {},
   "outputs": [],
   "source": [
    "data = {\n",
    "        \"userId\": [1],\n",
    "        \"localState\": [\"SP\"],\n",
    "        \"countLocalStateUser\": [5],\n",
    "        \"relLocalState\":''\n",
    "    }\n",
    "state_df = pd.DataFrame(data)"
   ]
  },
  {
   "cell_type": "code",
   "execution_count": 30,
   "metadata": {},
   "outputs": [],
   "source": [
    "data = {\n",
    "        \"userId\": [1],\n",
    "        \"localRegion\": [\"Sudeste\"],\n",
    "        \"countLocalRegionUser\": [10],\n",
    "        \"relLocalRegion\":''\n",
    "    }\n",
    "region_df = pd.DataFrame(data)"
   ]
  },
  {
   "cell_type": "code",
   "execution_count": 31,
   "metadata": {},
   "outputs": [],
   "source": [
    "data = {\n",
    "        \"userId\": [1],\n",
    "        \"themeMain\": [\"Esportes\"],\n",
    "        \"countThemeMainUser\": [8],\n",
    "        \"relThemeMain\":''\n",
    "    }\n",
    "tm_df = pd.DataFrame(data)"
   ]
  },
  {
   "cell_type": "code",
   "execution_count": 32,
   "metadata": {},
   "outputs": [],
   "source": [
    "data = {\n",
    "        \"userId\": [1],\n",
    "        \"themeSub\": [\"Futebol\"],\n",
    "        \"countThemeSubUser\": [4],\n",
    "        \"relThemeSub\":''\n",
    "    }\n",
    "ts_df = pd.DataFrame(data)"
   ]
  },
  {
   "cell_type": "code",
   "execution_count": 33,
   "metadata": {},
   "outputs": [
    {
     "data": {
      "text/html": [
       "<div>\n",
       "<style scoped>\n",
       "    .dataframe tbody tr th:only-of-type {\n",
       "        vertical-align: middle;\n",
       "    }\n",
       "\n",
       "    .dataframe tbody tr th {\n",
       "        vertical-align: top;\n",
       "    }\n",
       "\n",
       "    .dataframe thead th {\n",
       "        text-align: right;\n",
       "    }\n",
       "</style>\n",
       "<table border=\"1\" class=\"dataframe\">\n",
       "  <thead>\n",
       "    <tr style=\"text-align: right;\">\n",
       "      <th></th>\n",
       "      <th>userId</th>\n",
       "      <th>pageId</th>\n",
       "      <th>userType</th>\n",
       "      <th>isWeekend</th>\n",
       "      <th>dayPeriod</th>\n",
       "      <th>issuedDatetime</th>\n",
       "      <th>timestampHistoryDatetime</th>\n",
       "      <th>coldStart</th>\n",
       "      <th>localState</th>\n",
       "      <th>localRegion</th>\n",
       "      <th>themeMain</th>\n",
       "      <th>themeSub</th>\n",
       "      <th>relLocalState</th>\n",
       "      <th>relLocalRegion</th>\n",
       "      <th>relThemeMain</th>\n",
       "      <th>relThemeSub</th>\n",
       "    </tr>\n",
       "  </thead>\n",
       "  <tbody>\n",
       "    <tr>\n",
       "      <th>0</th>\n",
       "      <td>1</td>\n",
       "      <td>100</td>\n",
       "      <td>Free</td>\n",
       "      <td>False</td>\n",
       "      <td>Manhã</td>\n",
       "      <td>2024-03-01 10:00:00</td>\n",
       "      <td>2024-03-01 10:30:00</td>\n",
       "      <td>False</td>\n",
       "      <td>SP</td>\n",
       "      <td>Sudeste</td>\n",
       "      <td>Esportes</td>\n",
       "      <td>Futebol</td>\n",
       "      <td></td>\n",
       "      <td></td>\n",
       "      <td></td>\n",
       "      <td></td>\n",
       "    </tr>\n",
       "  </tbody>\n",
       "</table>\n",
       "</div>"
      ],
      "text/plain": [
       "   userId  pageId userType  isWeekend dayPeriod      issuedDatetime  \\\n",
       "0       1     100     Free      False     Manhã 2024-03-01 10:00:00   \n",
       "\n",
       "  timestampHistoryDatetime  coldStart localState localRegion themeMain  \\\n",
       "0      2024-03-01 10:30:00      False         SP     Sudeste  Esportes   \n",
       "\n",
       "  themeSub relLocalState relLocalRegion relThemeMain relThemeSub  \n",
       "0  Futebol                                                        "
      ]
     },
     "execution_count": 33,
     "metadata": {},
     "output_type": "execute_result"
    }
   ],
   "source": [
    "generate_suggested_feats(df_mix, state_df, region_df, tm_df, ts_df )"
   ]
  }
 ],
 "metadata": {
  "kernelspec": {
   "display_name": "Python (Datathon)",
   "language": "python",
   "name": "datathon"
  },
  "language_info": {
   "codemirror_mode": {
    "name": "ipython",
    "version": 3
   },
   "file_extension": ".py",
   "mimetype": "text/x-python",
   "name": "python",
   "nbconvert_exporter": "python",
   "pygments_lexer": "ipython3",
   "version": "3.11.7"
  }
 },
 "nbformat": 4,
 "nbformat_minor": 2
}
